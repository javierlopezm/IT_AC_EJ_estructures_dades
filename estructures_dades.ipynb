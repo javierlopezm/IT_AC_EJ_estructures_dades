{
 "cells": [
  {
   "cell_type": "markdown",
   "metadata": {},
   "source": [
    "#### 1. Crea una llista que agrupi els mesos de l’any en trimestres, és a dir, una llista amb 4 llistes dins."
   ]
  },
  {
   "cell_type": "code",
   "execution_count": 1,
   "metadata": {},
   "outputs": [
    {
     "name": "stdout",
     "output_type": "stream",
     "text": [
      "[['enero', 'febrero', 'marzo'], ['abril', 'mayo', 'junio'], ['julio', 'agosto', 'septiembre'], ['octubre', 'noviembre', 'diciembre']]\n"
     ]
    }
   ],
   "source": [
    "trimesters_year = [ [\"enero\", \"febrero\", \"marzo\"], [\"abril\", \"mayo\", \"junio\"], [\"julio\", \"agosto\", \"septiembre\"], [\"octubre\", \"noviembre\", \"diciembre\"] ]\n",
    "\n",
    "print(trimesters_year)"
   ]
  },
  {
   "cell_type": "markdown",
   "metadata": {},
   "source": [
    "#### 2. Crea un codi que et permeti accedir a:\n",
    "\n",
    "Primer trimestre, 2º mes (febrero)\n",
    "\n",
    "\n"
   ]
  },
  {
   "cell_type": "code",
   "execution_count": 2,
   "metadata": {},
   "outputs": [
    {
     "name": "stdout",
     "output_type": "stream",
     "text": [
      "febrero\n"
     ]
    }
   ],
   "source": [
    "print(trimesters_year[0][1])"
   ]
  },
  {
   "cell_type": "markdown",
   "metadata": {},
   "source": [
    "Els mesos del primer trimestre.\n",
    "\n"
   ]
  },
  {
   "cell_type": "code",
   "execution_count": 3,
   "metadata": {},
   "outputs": [
    {
     "name": "stdout",
     "output_type": "stream",
     "text": [
      "['enero', 'febrero', 'marzo']\n"
     ]
    }
   ],
   "source": [
    "print(trimesters_year[0])"
   ]
  },
  {
   "cell_type": "markdown",
   "metadata": {},
   "source": [
    "Setembre i octubre"
   ]
  },
  {
   "cell_type": "code",
   "execution_count": 6,
   "metadata": {},
   "outputs": [
    {
     "name": "stdout",
     "output_type": "stream",
     "text": [
      "septiembre y octubre\n"
     ]
    }
   ],
   "source": [
    "print(trimesters_year[2][2], \"y\", trimesters_year[3][0])"
   ]
  },
  {
   "cell_type": "markdown",
   "metadata": {},
   "source": [
    "#### 3. Crea una **llista** amb nº desordenats i respon a les següents preguntes"
   ]
  },
  {
   "cell_type": "code",
   "execution_count": 13,
   "metadata": {},
   "outputs": [],
   "source": [
    "unordered_list_numbers = [9, 4, 0, 5, 7, 4, 8, 3, 3, 7, 1, 3, 10, 4, 2, 11]"
   ]
  },
  {
   "cell_type": "markdown",
   "metadata": {},
   "source": [
    "Quants números hi ha?\n"
   ]
  },
  {
   "cell_type": "code",
   "execution_count": 16,
   "metadata": {},
   "outputs": [
    {
     "name": "stdout",
     "output_type": "stream",
     "text": [
      "La lista tiene 12 números\n"
     ]
    }
   ],
   "source": [
    "print(\"La lista tiene\", len(unordered_list_numbers), \"números\")"
   ]
  },
  {
   "cell_type": "markdown",
   "metadata": {},
   "source": [
    "Quantes vegades apareix el número 3"
   ]
  },
  {
   "cell_type": "code",
   "execution_count": 18,
   "metadata": {},
   "outputs": [
    {
     "name": "stdout",
     "output_type": "stream",
     "text": [
      "El nº 3 aparece 2 veces\n"
     ]
    }
   ],
   "source": [
    "print(\"El nº 3 aparece\", unordered_list_numbers.count(3), \"veces\")"
   ]
  },
  {
   "cell_type": "markdown",
   "metadata": {},
   "source": [
    "Quantes vegades apareixen els nombres 3 i 4?"
   ]
  },
  {
   "cell_type": "code",
   "execution_count": 27,
   "metadata": {},
   "outputs": [
    {
     "name": "stdout",
     "output_type": "stream",
     "text": [
      "Los números 3 y 4 aparecen 6 veces\n"
     ]
    }
   ],
   "source": [
    "print(\"Los números 3 y 4 aparecen\", unordered_list_numbers.count(3) + unordered_list_numbers.count(4),\"veces\")"
   ]
  },
  {
   "cell_type": "markdown",
   "metadata": {},
   "source": [
    "Quin és el número més gran?"
   ]
  },
  {
   "cell_type": "code",
   "execution_count": 3,
   "metadata": {},
   "outputs": [
    {
     "name": "stdout",
     "output_type": "stream",
     "text": [
      "El nº más grande de la lista es el 11\n"
     ]
    }
   ],
   "source": [
    "print(\"El nº más grande de la lista es el\", max(unordered_list_numbers))"
   ]
  },
  {
   "cell_type": "markdown",
   "metadata": {},
   "source": [
    "Quins són els 3 números més petits?"
   ]
  },
  {
   "cell_type": "code",
   "execution_count": 14,
   "metadata": {},
   "outputs": [
    {
     "name": "stdout",
     "output_type": "stream",
     "text": [
      "[0, 1, 2, 3, 3, 3, 4, 4, 4, 5, 7, 7, 8, 9, 10, 11]\n",
      "\n",
      "\n",
      "Los tres números más pequeños de la lista son: [0, 1, 2]\n"
     ]
    }
   ],
   "source": [
    "unordered_list_numbers.sort()\n",
    "\n",
    "print(unordered_list_numbers)\n",
    "print(\"\\n\")\n",
    "\n",
    "print(\"Los tres números más pequeños de la lista son:\", unordered_list_numbers[:3])"
   ]
  },
  {
   "cell_type": "markdown",
   "metadata": {},
   "source": [
    "Quin és el rang d’aquesta llista?"
   ]
  },
  {
   "cell_type": "code",
   "execution_count": 17,
   "metadata": {},
   "outputs": [
    {
     "name": "stdout",
     "output_type": "stream",
     "text": [
      "El rango de la lista es: 11\n"
     ]
    }
   ],
   "source": [
    "unordered_list_numbers.sort()\n",
    "\n",
    "print(\"El rango de la lista es:\", unordered_list_numbers[-1] - unordered_list_numbers[0])"
   ]
  },
  {
   "cell_type": "markdown",
   "metadata": {},
   "source": [
    "#### 4. Crea un diccionari de la següent forma:"
   ]
  },
  {
   "cell_type": "code",
   "execution_count": 3,
   "metadata": {},
   "outputs": [
    {
     "name": "stdout",
     "output_type": "stream",
     "text": [
      "{'Pomes': {'Qty': 5, '€': 0.42}, 'Peres': {'Qty': 3, '€': 0.66}}\n"
     ]
    }
   ],
   "source": [
    "compra = { \n",
    "    \"Pomes\" : {\"Qty\": 5, \"€\": 0.42}, \n",
    "    \"Peres\" : {\"Qty\": 3, \"€\": 0.66} \n",
    "    }\n",
    "\n",
    "print(compra)"
   ]
  },
  {
   "cell_type": "markdown",
   "metadata": {},
   "source": [
    "Afegeix alguna fruita més"
   ]
  },
  {
   "cell_type": "code",
   "execution_count": 5,
   "metadata": {},
   "outputs": [
    {
     "name": "stdout",
     "output_type": "stream",
     "text": [
      "{'Pomes': {'Qty': 5, '€': 0.42}, 'Peres': {'Qty': 3, '€': 0.66}, 'Mandarines': {'Qty': 10, '€': 0.92}}\n"
     ]
    }
   ],
   "source": [
    "compra[\"Mandarines\"] = {\"Qty\": 10, \"€\": 0.92}\n",
    "\n",
    "print(compra)"
   ]
  },
  {
   "cell_type": "markdown",
   "metadata": {},
   "source": [
    "Quant han costat les peres en total?"
   ]
  },
  {
   "cell_type": "code",
   "execution_count": 31,
   "metadata": {},
   "outputs": [
    {
     "name": "stdout",
     "output_type": "stream",
     "text": [
      "Las peras han costado 1.98€"
     ]
    }
   ],
   "source": [
    "print(\"Las peras han costado\", compra[\"Peres\"][\"Qty\"] * compra[\"Peres\"][\"€\"], end=\"€\")"
   ]
  },
  {
   "cell_type": "markdown",
   "metadata": {},
   "source": [
    "Quantes fruites hem comprat en total?"
   ]
  },
  {
   "cell_type": "code",
   "execution_count": 40,
   "metadata": {},
   "outputs": [
    {
     "name": "stdout",
     "output_type": "stream",
     "text": [
      "Hemos comprado 3 frutas diferentes, 18 piezas en total\n"
     ]
    }
   ],
   "source": [
    "print(\"Hemos comprado\", len(compra), \"frutas diferentes,\", compra[\"Pomes\"][\"Qty\"] + compra[\"Peres\"][\"Qty\"] + compra[\"Mandarines\"][\"Qty\"], \"piezas en total\")"
   ]
  },
  {
   "cell_type": "markdown",
   "metadata": {},
   "source": [
    "Quina és la fruita més cara?"
   ]
  },
  {
   "cell_type": "code",
   "execution_count": 7,
   "metadata": {},
   "outputs": [
    {
     "name": "stdout",
     "output_type": "stream",
     "text": [
      "La madarina es la fruta más cara\n"
     ]
    }
   ],
   "source": [
    "# Este código no sería válido si el diccionario tuviera cientos de frutas, pero no encuentro otra solución. \n",
    "\n",
    "if compra[\"Pomes\"][\"€\"] > compra[\"Peres\"][\"€\"] and compra[\"Pomes\"][\"€\"] > compra[\"Mandarines\"][\"€\"]:\n",
    "    print(\"La manzana es la fruta más cara\")\n",
    "\n",
    "elif compra[\"Peres\"][\"€\"] > compra[\"Pomes\"][\"€\"] and compra[\"Peres\"][\"€\"] > compra[\"Mandarines\"][\"€\"]:\n",
    "    print(\"La pera es la fruta más cara\")\n",
    "\n",
    "else: \n",
    "    print(\"La madarina es la fruta más cara\")"
   ]
  }
 ],
 "metadata": {
  "kernelspec": {
   "display_name": "Python 3.9.12 ('base')",
   "language": "python",
   "name": "python3"
  },
  "language_info": {
   "codemirror_mode": {
    "name": "ipython",
    "version": 3
   },
   "file_extension": ".py",
   "mimetype": "text/x-python",
   "name": "python",
   "nbconvert_exporter": "python",
   "pygments_lexer": "ipython3",
   "version": "3.9.12"
  },
  "orig_nbformat": 4,
  "vscode": {
   "interpreter": {
    "hash": "e06ff7da33dc9620448857a90ad8b5f428f0d573d205a934d2841c8aee45ea32"
   }
  }
 },
 "nbformat": 4,
 "nbformat_minor": 2
}
